{
  "nbformat": 4,
  "nbformat_minor": 0,
  "metadata": {
    "colab": {
      "provenance": [],
      "gpuType": "T4",
      "authorship_tag": "ABX9TyO/9y7pA7ETNRqndIsjTQ4u",
      "include_colab_link": true
    },
    "kernelspec": {
      "name": "python3",
      "display_name": "Python 3"
    },
    "language_info": {
      "name": "python"
    },
    "accelerator": "GPU"
  },
  "cells": [
    {
      "cell_type": "markdown",
      "metadata": {
        "id": "view-in-github",
        "colab_type": "text"
      },
      "source": [
        "<a href=\"https://colab.research.google.com/github/ZacCarrico/basic_transformer/blob/main/decoder.ipynb\" target=\"_parent\"><img src=\"https://colab.research.google.com/assets/colab-badge.svg\" alt=\"Open In Colab\"/></a>"
      ]
    },
    {
      "cell_type": "markdown",
      "source": [
        "# Introduction\n",
        "The goal of this is to train a simple attention-based decoder model using DNA as the input data. The hypothesis is that this model will generate a new DNA sequence with similar codon frequencies to the input DNA.\n",
        "\n",
        "# Summary\n",
        "\n",
        "\n",
        "# Background\n",
        "like those used in [Attention is All You Need](https://arxiv.org/abs/1706.03762). This code is a derivative of [Andrej Karpathy's decoder training code](https://github.com/karpathy/ng-video-lecture/blob/master/gpt.py[link text)"
      ],
      "metadata": {
        "id": "yK84vg4_PQoh"
      }
    },
    {
      "cell_type": "code",
      "execution_count": 42,
      "metadata": {
        "id": "eKYLiopNoifH",
        "colab": {
          "base_uri": "https://localhost:8080/"
        },
        "outputId": "b6815cca-09de-4dfc-8009-82ff562d1332"
      },
      "outputs": [
        {
          "output_type": "stream",
          "name": "stdout",
          "text": [
            "10.646788 M parameters\n",
            "step 0: train loss 1.3858, val loss 1.4099\n",
            "step 500: train loss 1.1423, val loss 1.4490\n",
            "step 999: train loss 1.1328, val loss 1.4314\n"
          ]
        },
        {
          "output_type": "execute_result",
          "data": {
            "text/plain": [
              "5001"
            ]
          },
          "metadata": {},
          "execution_count": 42
        }
      ],
      "source": [
        "\n",
        "import torch\n",
        "import torch.nn as nn\n",
        "from torch.nn import functional as F\n",
        "\n",
        "# hyperparameters\n",
        "batch_size = 32 # how many independent sequences will we process in parallel?\n",
        "block_size = 8 # what is the maximum context length for predictions?\n",
        "max_iters = 1000\n",
        "eval_interval = 500\n",
        "learning_rate = 3e-4\n",
        "device = 'cuda' if torch.cuda.is_available() else 'cpu'\n",
        "eval_iters = 200\n",
        "n_embd = 384\n",
        "n_head = 6\n",
        "n_layer = 6\n",
        "dropout = 0.2\n",
        "# ------------\n",
        "\n",
        "torch.manual_seed(1337)\n",
        "\n",
        "with open('human_type1_collagen.txt', 'r', encoding='utf-8') as f:\n",
        "    text = f.read()\n",
        "\n",
        "# here are all the unique characters that occur in this text\n",
        "chars = sorted(list(set(text)))\n",
        "vocab_size = len(chars)\n",
        "# create a mapping from characters to integers\n",
        "stoi = { ch:i for i,ch in enumerate(chars) }\n",
        "itos = { i:ch for i,ch in enumerate(chars) }\n",
        "encode = lambda s: [stoi[c] for c in s] # encoder: take a string, output a list of integers\n",
        "decode = lambda l: ''.join([itos[i] for i in l]) # decoder: take a list of integers, output a string\n",
        "\n",
        "# Train and test splits\n",
        "data = torch.tensor(encode(text), dtype=torch.long)\n",
        "n = int(0.9*len(data)) # first 90% will be train, rest val\n",
        "train_data = data[:n]\n",
        "val_data = data[n:]\n",
        "\n",
        "# data loading\n",
        "def get_batch(split):\n",
        "    # generate a small batch of data of inputs x and targets y\n",
        "    data = train_data if split == 'train' else val_data\n",
        "    ix = torch.randint(len(data) - block_size, (batch_size,))\n",
        "    x = torch.stack([data[i:i+block_size] for i in ix])\n",
        "    y = torch.stack([data[i+1:i+block_size+1] for i in ix])\n",
        "    x, y = x.to(device), y.to(device)\n",
        "    return x, y\n",
        "\n",
        "@torch.no_grad()\n",
        "def estimate_loss():\n",
        "    out = {}\n",
        "    model.eval()\n",
        "    for split in ['train', 'val']:\n",
        "        losses = torch.zeros(eval_iters)\n",
        "        for k in range(eval_iters):\n",
        "            X, Y = get_batch(split)\n",
        "            logits, loss = model(X, Y)\n",
        "            losses[k] = loss.item()\n",
        "        out[split] = losses.mean()\n",
        "    model.train()\n",
        "    return out\n",
        "\n",
        "class Head(nn.Module):\n",
        "    \"\"\" one head of self-attention \"\"\"\n",
        "\n",
        "    def __init__(self, head_size):\n",
        "        super().__init__()\n",
        "        self.key = nn.Linear(n_embd, head_size, bias=False)\n",
        "        self.query = nn.Linear(n_embd, head_size, bias=False)\n",
        "        self.value = nn.Linear(n_embd, head_size, bias=False)\n",
        "        self.register_buffer('tril', torch.tril(torch.ones(block_size, block_size)))\n",
        "\n",
        "        self.dropout = nn.Dropout(dropout)\n",
        "\n",
        "    def forward(self, x):\n",
        "        # input of size (batch, time-step, channels)\n",
        "        # output of size (batch, time-step, head size)\n",
        "        B,T,C = x.shape\n",
        "        k = self.key(x)   # (B,T,hs)\n",
        "        q = self.query(x) # (B,T,hs)\n",
        "        # compute attention scores (\"affinities\")\n",
        "        wei = q @ k.transpose(-2,-1) * k.shape[-1]**-0.5 # (B, T, hs) @ (B, hs, T) -> (B, T, T)\n",
        "        wei = wei.masked_fill(self.tril[:T, :T] == 0, float('-inf')) # (B, T, T)\n",
        "        wei = F.softmax(wei, dim=-1) # (B, T, T)\n",
        "        wei = self.dropout(wei)\n",
        "        # perform the weighted aggregation of the values\n",
        "        v = self.value(x) # (B,T,hs)\n",
        "        out = wei @ v # (B, T, T) @ (B, T, hs) -> (B, T, hs)\n",
        "        return out\n",
        "\n",
        "class MultiHeadAttention(nn.Module):\n",
        "    \"\"\" multiple heads of self-attention in parallel \"\"\"\n",
        "\n",
        "    def __init__(self, num_heads, head_size):\n",
        "        super().__init__()\n",
        "        self.heads = nn.ModuleList([Head(head_size) for _ in range(num_heads)])\n",
        "        self.proj = nn.Linear(head_size * num_heads, n_embd)\n",
        "        self.dropout = nn.Dropout(dropout)\n",
        "\n",
        "    def forward(self, x):\n",
        "        out = torch.cat([h(x) for h in self.heads], dim=-1)\n",
        "        out = self.dropout(self.proj(out))\n",
        "        return out\n",
        "\n",
        "class FeedFoward(nn.Module):\n",
        "    \"\"\" a simple linear layer followed by a non-linearity \"\"\"\n",
        "\n",
        "    def __init__(self, n_embd):\n",
        "        super().__init__()\n",
        "        self.net = nn.Sequential(\n",
        "            nn.Linear(n_embd, 4 * n_embd),\n",
        "            nn.ReLU(),\n",
        "            nn.Linear(4 * n_embd, n_embd),\n",
        "            nn.Dropout(dropout),\n",
        "        )\n",
        "\n",
        "    def forward(self, x):\n",
        "        return self.net(x)\n",
        "\n",
        "class Block(nn.Module):\n",
        "    \"\"\" Transformer block: communication followed by computation \"\"\"\n",
        "\n",
        "    def __init__(self, n_embd, n_head):\n",
        "        # n_embd: embedding dimension, n_head: the number of heads we'd like\n",
        "        super().__init__()\n",
        "        head_size = n_embd // n_head\n",
        "        self.sa = MultiHeadAttention(n_head, head_size)\n",
        "        self.ffwd = FeedFoward(n_embd)\n",
        "        self.ln1 = nn.LayerNorm(n_embd)\n",
        "        self.ln2 = nn.LayerNorm(n_embd)\n",
        "\n",
        "    def forward(self, x):\n",
        "        x = x + self.sa(self.ln1(x))\n",
        "        x = x + self.ffwd(self.ln2(x))\n",
        "        return x\n",
        "\n",
        "class GPTLanguageModel(nn.Module):\n",
        "\n",
        "    def __init__(self):\n",
        "        super().__init__()\n",
        "        # each token directly reads off the logits for the next token from a lookup table\n",
        "        self.token_embedding_table = nn.Embedding(vocab_size, n_embd)\n",
        "        self.position_embedding_table = nn.Embedding(block_size, n_embd)\n",
        "        self.blocks = nn.Sequential(*[Block(n_embd, n_head=n_head) for _ in range(n_layer)])\n",
        "        self.ln_f = nn.LayerNorm(n_embd) # final layer norm\n",
        "        self.lm_head = nn.Linear(n_embd, vocab_size)\n",
        "\n",
        "        # better init, not covered in the original GPT video, but important, will cover in followup video\n",
        "        self.apply(self._init_weights)\n",
        "\n",
        "    def _init_weights(self, module):\n",
        "        if isinstance(module, nn.Linear):\n",
        "            torch.nn.init.normal_(module.weight, mean=0.0, std=0.02)\n",
        "            if module.bias is not None:\n",
        "                torch.nn.init.zeros_(module.bias)\n",
        "        elif isinstance(module, nn.Embedding):\n",
        "            torch.nn.init.normal_(module.weight, mean=0.0, std=0.02)\n",
        "\n",
        "    def forward(self, idx, targets=None):\n",
        "        B, T = idx.shape\n",
        "\n",
        "        # idx and targets are both (B,T) tensor of integers\n",
        "        tok_emb = self.token_embedding_table(idx) # (B,T,C)\n",
        "        pos_emb = self.position_embedding_table(torch.arange(T, device=device)) # (T,C)\n",
        "        x = tok_emb + pos_emb # (B,T,C)\n",
        "        x = self.blocks(x) # (B,T,C)\n",
        "        x = self.ln_f(x) # (B,T,C)\n",
        "        logits = self.lm_head(x) # (B,T,vocab_size)\n",
        "\n",
        "        if targets is None:\n",
        "            loss = None\n",
        "        else:\n",
        "            B, T, C = logits.shape\n",
        "            logits = logits.view(B*T, C)\n",
        "            targets = targets.view(B*T)\n",
        "            loss = F.cross_entropy(logits, targets)\n",
        "\n",
        "        return logits, loss\n",
        "\n",
        "    def generate(self, idx, max_new_tokens):\n",
        "        # idx is (B, T) array of indices in the current context\n",
        "        for _ in range(max_new_tokens):\n",
        "            # crop idx to the last block_size tokens\n",
        "            idx_cond = idx[:, -block_size:]\n",
        "            # get the predictions\n",
        "            logits, loss = self(idx_cond)\n",
        "            # focus only on the last time step\n",
        "            logits = logits[:, -1, :] # becomes (B, C)\n",
        "            # apply softmax to get probabilities\n",
        "            probs = F.softmax(logits, dim=-1) # (B, C)\n",
        "            # sample from the distribution\n",
        "            idx_next = torch.multinomial(probs, num_samples=1) # (B, 1)\n",
        "            # append sampled index to the running sequence\n",
        "            idx = torch.cat((idx, idx_next), dim=1) # (B, T+1)\n",
        "        return idx\n",
        "\n",
        "model = GPTLanguageModel()\n",
        "m = model.to(device)\n",
        "# print the number of parameters in the model\n",
        "print(sum(p.numel() for p in m.parameters())/1e6, 'M parameters')\n",
        "\n",
        "# create a PyTorch optimizer\n",
        "optimizer = torch.optim.AdamW(model.parameters(), lr=learning_rate)\n",
        "\n",
        "for iter in range(max_iters):\n",
        "\n",
        "    # every once in a while evaluate the loss on train and val sets\n",
        "    if iter % eval_interval == 0 or iter == max_iters - 1:\n",
        "        losses = estimate_loss()\n",
        "        print(f\"step {iter}: train loss {losses['train']:.4f}, val loss {losses['val']:.4f}\")\n",
        "\n",
        "    # sample a batch of data\n",
        "    xb, yb = get_batch('train')\n",
        "\n",
        "    # evaluate the loss\n",
        "    logits, loss = model(xb, yb)\n",
        "    optimizer.zero_grad(set_to_none=True)\n",
        "    loss.backward()\n",
        "    optimizer.step()\n",
        "\n",
        "# generate from the model\n",
        "context = torch.zeros((1, 1), dtype=torch.long, device=device)\n",
        "decoded = decode(m.generate(context, max_new_tokens=5000)[0].tolist())\n",
        "open('generated_dna.txt', 'w').write(decoded)"
      ]
    },
    {
      "cell_type": "code",
      "source": [
        "def codon_frequency(dna):\n",
        "  \"\"\"Calculates the frequency of each codon in a DNA sequence.\n",
        "\n",
        "  Args:\n",
        "    dna: A string representing the DNA sequence.\n",
        "\n",
        "  Returns:\n",
        "    A dictionary mapping codons to their frequencies.\n",
        "  \"\"\"\n",
        "\n",
        "  codon_counts = {}\n",
        "  for i in range(0, len(dna), 3):\n",
        "    codon = dna[i:i + 3]\n",
        "    codon_counts[codon] = codon_counts.get(codon, 0) + 1\n",
        "\n",
        "  codon_frequencies = {}\n",
        "  for codon, count in codon_counts.items():\n",
        "    codon_frequencies[codon] = count / len(dna)\n",
        "\n",
        "  return codon_frequencies"
      ],
      "metadata": {
        "id": "sKg2UgedA1cg"
      },
      "execution_count": 43,
      "outputs": []
    },
    {
      "cell_type": "code",
      "source": [
        "input_codon_frequencies = codon_frequency(text)\n",
        "generated_codon_frequencies = codon_frequency(decoded)"
      ],
      "metadata": {
        "id": "kTdiDfLuCk7j"
      },
      "execution_count": 44,
      "outputs": []
    },
    {
      "cell_type": "code",
      "source": [
        "print(f\"{len(input_codon_frequencies)=}\")\n",
        "print(f\"{len(generated_codon_frequencies)=}\")"
      ],
      "metadata": {
        "colab": {
          "base_uri": "https://localhost:8080/",
          "height": 159
        },
        "id": "wH-folsgCmjS",
        "outputId": "5b932cf1-2dfd-40c1-e902-dc4e7b813e43"
      },
      "execution_count": 1,
      "outputs": [
        {
          "output_type": "error",
          "ename": "NameError",
          "evalue": "name 'input_codon_frequencies' is not defined",
          "traceback": [
            "\u001b[0;31m---------------------------------------------------------------------------\u001b[0m",
            "\u001b[0;31mNameError\u001b[0m                                 Traceback (most recent call last)",
            "\u001b[0;32m<ipython-input-1-acdbb81f4197>\u001b[0m in \u001b[0;36m<cell line: 1>\u001b[0;34m()\u001b[0m\n\u001b[0;32m----> 1\u001b[0;31m \u001b[0mprint\u001b[0m\u001b[0;34m(\u001b[0m\u001b[0;34mf\"{len(input_codon_frequencies)=}\"\u001b[0m\u001b[0;34m)\u001b[0m\u001b[0;34m\u001b[0m\u001b[0;34m\u001b[0m\u001b[0m\n\u001b[0m\u001b[1;32m      2\u001b[0m \u001b[0mprint\u001b[0m\u001b[0;34m(\u001b[0m\u001b[0;34mf\"{len(generated_codon_frequencies)=}\"\u001b[0m\u001b[0;34m)\u001b[0m\u001b[0;34m\u001b[0m\u001b[0;34m\u001b[0m\u001b[0m\n",
            "\u001b[0;31mNameError\u001b[0m: name 'input_codon_frequencies' is not defined"
          ]
        }
      ]
    },
    {
      "cell_type": "markdown",
      "source": [
        "All 64 possible codons were used."
      ],
      "metadata": {
        "id": "CkXe_OxRSkN5"
      }
    },
    {
      "cell_type": "code",
      "source": [
        "generated_codon_frequencies"
      ],
      "metadata": {
        "colab": {
          "base_uri": "https://localhost:8080/"
        },
        "id": "LsbxlFHRDIPi",
        "outputId": "cc6c1949-cc67-45fe-d29a-3845292f9bd2"
      },
      "execution_count": 19,
      "outputs": [
        {
          "output_type": "execute_result",
          "data": {
            "text/plain": [
              "{'ATC': 0.003799810009499525,\n",
              " 'ATG': 0.0038998050097495125,\n",
              " 'TCC': 0.01224938753062347,\n",
              " 'TTT': 0.002849857507124644,\n",
              " 'GTC': 0.004849757512124394,\n",
              " 'CTA': 0.002449877506124694,\n",
              " 'CCA': 0.007949602519874007,\n",
              " 'CTT': 0.006199690015499225,\n",
              " 'GGC': 0.008749562521873906,\n",
              " 'AGC': 0.00599970001499925,\n",
              " 'TCT': 0.0071996400179991,\n",
              " 'CTG': 0.012199390030498474,\n",
              " 'AAC': 0.0032998350082495873,\n",
              " 'TAT': 0.0008999550022498875,\n",
              " 'CAG': 0.0066996650167491624,\n",
              " 'GCT': 0.006949652517374131,\n",
              " 'CCC': 0.022898855057247137,\n",
              " 'ACA': 0.0031498425078746064,\n",
              " 'TTC': 0.003749812509374531,\n",
              " 'ACC': 0.00679966001699915,\n",
              " 'GCC': 0.010949452527373631,\n",
              " 'CAC': 0.005149742512874356,\n",
              " 'TGA': 0.0055997200139993,\n",
              " 'AGT': 0.0038998050097495125,\n",
              " 'TCA': 0.004649767511624419,\n",
              " 'GGG': 0.009449527523623819,\n",
              " 'AGA': 0.004449777511124443,\n",
              " 'TAG': 0.0027498625068746564,\n",
              " 'GAG': 0.006549672516374182,\n",
              " 'TGG': 0.010349482525873706,\n",
              " 'TCG': 0.002199890005499725,\n",
              " 'CCT': 0.014649267536623168,\n",
              " 'TTG': 0.004149792510374482,\n",
              " 'GAC': 0.0050497475126243686,\n",
              " 'TGC': 0.0074496275186240685,\n",
              " 'CGG': 0.0034498275086245686,\n",
              " 'CAA': 0.0039998000099995,\n",
              " 'GAA': 0.0039998000099995,\n",
              " 'CGC': 0.002449877506124694,\n",
              " 'AGG': 0.007649617519124044,\n",
              " 'AAG': 0.0039998000099995,\n",
              " 'GCA': 0.004049797510124494,\n",
              " 'GGT': 0.006299685015749213,\n",
              " 'ACT': 0.003949802509874506,\n",
              " 'GAT': 0.003649817509124544,\n",
              " 'CGT': 0.0018999050047497626,\n",
              " 'ATT': 0.0016499175041247937,\n",
              " 'ACG': 0.001799910004499775,\n",
              " 'GGA': 0.006749662516874156,\n",
              " 'GTA': 0.0012999350032498376,\n",
              " 'TGT': 0.004349782510874456,\n",
              " 'CTC': 0.011099445027748612,\n",
              " 'CCG': 0.004099795010249488,\n",
              " 'GTG': 0.0058497075146242685,\n",
              " 'CAT': 0.004499775011249437,\n",
              " 'GTT': 0.0023998800059997,\n",
              " 'AAA': 0.0029498525073746312,\n",
              " 'GCG': 0.0016499175041247937,\n",
              " 'TTA': 0.0014499275036248187,\n",
              " 'TAC': 0.0012999350032498376,\n",
              " 'AAT': 0.0022498875056247186,\n",
              " 'ATA': 0.0012999350032498376,\n",
              " 'CGA': 0.0017499125043747813,\n",
              " 'TAA': 0.0013499325033748313}"
            ]
          },
          "metadata": {},
          "execution_count": 19
        }
      ]
    },
    {
      "cell_type": "code",
      "source": [
        "with open('human_type1_collagen.txt', 'r', encoding='utf-8') as f:\n",
        "    dna = f.readlines()\n",
        "    # remove new line characters\n",
        "    dna = [substr.replace(\"\\n\", \"\") for substr in dna]\n",
        "    text = \"\".join(dna)"
      ],
      "metadata": {
        "id": "lItKwbEMDLp5"
      },
      "execution_count": 39,
      "outputs": []
    },
    {
      "cell_type": "code",
      "source": [
        "len(text) % 3"
      ],
      "metadata": {
        "colab": {
          "base_uri": "https://localhost:8080/"
        },
        "id": "mDlS9xHJX14t",
        "outputId": "146f3766-9627-4f1a-d298-ba2faa74d6ee"
      },
      "execution_count": 40,
      "outputs": [
        {
          "output_type": "execute_result",
          "data": {
            "text/plain": [
              "2"
            ]
          },
          "metadata": {},
          "execution_count": 40
        }
      ]
    },
    {
      "cell_type": "code",
      "source": [],
      "metadata": {
        "id": "8AjLyOB8X_5C"
      },
      "execution_count": null,
      "outputs": []
    }
  ]
}